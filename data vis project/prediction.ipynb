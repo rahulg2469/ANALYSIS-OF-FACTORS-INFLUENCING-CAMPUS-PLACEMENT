{
 "cells": [
  {
   "cell_type": "code",
   "execution_count": 1,
   "id": "091dabc5",
   "metadata": {},
   "outputs": [],
   "source": [
    "import warnings\n",
    "warnings.filterwarnings('ignore')\n",
    "\n",
    "import pandas as pd\n",
    "import numpy as np\n",
    "import matplotlib.pyplot as plt\n",
    "import ipywidgets as widgets\n",
    "from ipywidgets import interact\n",
    "from IPython.display import display\n",
    "import seaborn as sns\n",
    "\n",
    "from sklearn.model_selection import train_test_split\n",
    "from sklearn.linear_model import LogisticRegression\n",
    "from sklearn.metrics import confusion_matrix, classification_report, accuracy_score\n",
    "from sklearn.tree import DecisionTreeClassifier\n",
    "from sklearn.model_selection import cross_val_score\n",
    "from sklearn.preprocessing import StandardScaler\n",
    "from sklearn.metrics import roc_auc_score\n",
    "from sklearn.metrics import roc_curve,auc"
   ]
  },
  {
   "cell_type": "code",
   "execution_count": 2,
   "id": "fc49f46a",
   "metadata": {},
   "outputs": [],
   "source": [
    "data = pd.read_csv(\"C:/Users/rahul/Downloads/Placement_Data_Full_Class.csv\")\n",
    "\n",
    "data.drop(\"sl_no\", axis=1, inplace=True)"
   ]
  },
  {
   "cell_type": "markdown",
   "id": "07e20323",
   "metadata": {},
   "source": [
    "**PREDICTING WHETHER A STUDENT WILL GET PLACED OR NOT**"
   ]
  },
  {
   "cell_type": "markdown",
   "id": "a366f1f1",
   "metadata": {},
   "source": [
    "Encoding Data"
   ]
  },
  {
   "cell_type": "code",
   "execution_count": 4,
   "id": "db0568fc",
   "metadata": {},
   "outputs": [
    {
     "data": {
      "text/html": [
       "<div>\n",
       "<style scoped>\n",
       "    .dataframe tbody tr th:only-of-type {\n",
       "        vertical-align: middle;\n",
       "    }\n",
       "\n",
       "    .dataframe tbody tr th {\n",
       "        vertical-align: top;\n",
       "    }\n",
       "\n",
       "    .dataframe thead th {\n",
       "        text-align: right;\n",
       "    }\n",
       "</style>\n",
       "<table border=\"1\" class=\"dataframe\">\n",
       "  <thead>\n",
       "    <tr style=\"text-align: right;\">\n",
       "      <th></th>\n",
       "      <th>gender</th>\n",
       "      <th>ssc_p</th>\n",
       "      <th>hsc_p</th>\n",
       "      <th>degree_p</th>\n",
       "      <th>workex</th>\n",
       "      <th>etest_p</th>\n",
       "      <th>specialisation</th>\n",
       "      <th>mba_p</th>\n",
       "      <th>status</th>\n",
       "      <th>Arts</th>\n",
       "      <th>Commerce</th>\n",
       "      <th>Science</th>\n",
       "      <th>Comm&amp;Mgmt</th>\n",
       "      <th>Others</th>\n",
       "      <th>Sci&amp;Tech</th>\n",
       "    </tr>\n",
       "  </thead>\n",
       "  <tbody>\n",
       "    <tr>\n",
       "      <th>0</th>\n",
       "      <td>0</td>\n",
       "      <td>67.00</td>\n",
       "      <td>91.00</td>\n",
       "      <td>58.00</td>\n",
       "      <td>0</td>\n",
       "      <td>55.0</td>\n",
       "      <td>0</td>\n",
       "      <td>58.80</td>\n",
       "      <td>Placed</td>\n",
       "      <td>0</td>\n",
       "      <td>1</td>\n",
       "      <td>0</td>\n",
       "      <td>0</td>\n",
       "      <td>0</td>\n",
       "      <td>1</td>\n",
       "    </tr>\n",
       "    <tr>\n",
       "      <th>1</th>\n",
       "      <td>0</td>\n",
       "      <td>79.33</td>\n",
       "      <td>78.33</td>\n",
       "      <td>77.48</td>\n",
       "      <td>1</td>\n",
       "      <td>86.5</td>\n",
       "      <td>1</td>\n",
       "      <td>66.28</td>\n",
       "      <td>Placed</td>\n",
       "      <td>0</td>\n",
       "      <td>0</td>\n",
       "      <td>1</td>\n",
       "      <td>0</td>\n",
       "      <td>0</td>\n",
       "      <td>1</td>\n",
       "    </tr>\n",
       "    <tr>\n",
       "      <th>2</th>\n",
       "      <td>0</td>\n",
       "      <td>65.00</td>\n",
       "      <td>68.00</td>\n",
       "      <td>64.00</td>\n",
       "      <td>0</td>\n",
       "      <td>75.0</td>\n",
       "      <td>1</td>\n",
       "      <td>57.80</td>\n",
       "      <td>Placed</td>\n",
       "      <td>1</td>\n",
       "      <td>0</td>\n",
       "      <td>0</td>\n",
       "      <td>1</td>\n",
       "      <td>0</td>\n",
       "      <td>0</td>\n",
       "    </tr>\n",
       "    <tr>\n",
       "      <th>3</th>\n",
       "      <td>0</td>\n",
       "      <td>56.00</td>\n",
       "      <td>52.00</td>\n",
       "      <td>52.00</td>\n",
       "      <td>0</td>\n",
       "      <td>66.0</td>\n",
       "      <td>0</td>\n",
       "      <td>59.43</td>\n",
       "      <td>Not Placed</td>\n",
       "      <td>0</td>\n",
       "      <td>0</td>\n",
       "      <td>1</td>\n",
       "      <td>0</td>\n",
       "      <td>0</td>\n",
       "      <td>1</td>\n",
       "    </tr>\n",
       "    <tr>\n",
       "      <th>4</th>\n",
       "      <td>0</td>\n",
       "      <td>85.80</td>\n",
       "      <td>73.60</td>\n",
       "      <td>73.30</td>\n",
       "      <td>0</td>\n",
       "      <td>96.8</td>\n",
       "      <td>1</td>\n",
       "      <td>55.50</td>\n",
       "      <td>Placed</td>\n",
       "      <td>0</td>\n",
       "      <td>1</td>\n",
       "      <td>0</td>\n",
       "      <td>1</td>\n",
       "      <td>0</td>\n",
       "      <td>0</td>\n",
       "    </tr>\n",
       "  </tbody>\n",
       "</table>\n",
       "</div>"
      ],
      "text/plain": [
       "   gender  ssc_p  hsc_p  degree_p  workex  etest_p  specialisation  mba_p  \\\n",
       "0       0  67.00  91.00     58.00       0     55.0               0  58.80   \n",
       "1       0  79.33  78.33     77.48       1     86.5               1  66.28   \n",
       "2       0  65.00  68.00     64.00       0     75.0               1  57.80   \n",
       "3       0  56.00  52.00     52.00       0     66.0               0  59.43   \n",
       "4       0  85.80  73.60     73.30       0     96.8               1  55.50   \n",
       "\n",
       "       status  Arts  Commerce  Science  Comm&Mgmt  Others  Sci&Tech  \n",
       "0      Placed     0         1        0          0       0         1  \n",
       "1      Placed     0         0        1          0       0         1  \n",
       "2      Placed     1         0        0          1       0         0  \n",
       "3  Not Placed     0         0        1          0       0         1  \n",
       "4      Placed     0         1        0          1       0         0  "
      ]
     },
     "execution_count": 4,
     "metadata": {},
     "output_type": "execute_result"
    }
   ],
   "source": [
    "data.drop(['ssc_b','hsc_b', 'salary'], axis=1, inplace=True)\n",
    "data[\"gender\"] = data.gender.map({\"M\":0,\"F\":1})\n",
    "\n",
    "data[\"workex\"] = data.workex.map({\"No\":0, \"Yes\":1})\n",
    "data[\"specialisation\"] = data.specialisation.map({\"Mkt&HR\":0, \"Mkt&Fin\":1})\n",
    "for column in ['hsc_s', 'degree_t']:\n",
    "    dummies = pd.get_dummies(data[column])\n",
    "    data[dummies.columns] = dummies\n",
    "data.drop(['degree_t','hsc_s'], axis=1, inplace=True)\n",
    "data.head()"
   ]
  },
  {
   "cell_type": "code",
   "execution_count": 5,
   "id": "b5caecec",
   "metadata": {},
   "outputs": [],
   "source": [
    "data[\"status\"] = data.status.map({\"Not Placed\":0,\"Placed\":1})"
   ]
  },
  {
   "cell_type": "code",
   "execution_count": 6,
   "id": "d84f3844",
   "metadata": {},
   "outputs": [],
   "source": [
    "data.drop(['Others', 'Arts'], axis=1, inplace=True)"
   ]
  },
  {
   "cell_type": "code",
   "execution_count": 8,
   "id": "c197c4b3",
   "metadata": {},
   "outputs": [],
   "source": [
    "y = data['status']\n",
    "data.drop('status', axis = 1, inplace = True)\n",
    "sc = StandardScaler()\n",
    "X = sc.fit_transform(data)\n",
    "X_train, X_test, y_train, y_test = train_test_split(X, y, test_size=0.3, random_state=42, shuffle=True)"
   ]
  },
  {
   "cell_type": "code",
   "execution_count": 9,
   "id": "73edee69",
   "metadata": {},
   "outputs": [
    {
     "name": "stdout",
     "output_type": "stream",
     "text": [
      "X-Train: (150, 12)\n",
      "X-Test: (65, 12)\n",
      "Y-Train: (150,)\n",
      "Y-Test: (65,)\n"
     ]
    }
   ],
   "source": [
    "print(\"X-Train:\",X_train.shape)\n",
    "print(\"X-Test:\",X_test.shape)\n",
    "print(\"Y-Train:\",y_train.shape)\n",
    "print(\"Y-Test:\",y_test.shape)"
   ]
  },
  {
   "cell_type": "code",
   "execution_count": 10,
   "id": "133130db",
   "metadata": {},
   "outputs": [
    {
     "data": {
      "text/plain": [
       "LogisticRegression()"
      ]
     },
     "execution_count": 10,
     "metadata": {},
     "output_type": "execute_result"
    }
   ],
   "source": [
    "log_reg = LogisticRegression()\n",
    "log_reg.fit(X_train, y_train)"
   ]
  },
  {
   "cell_type": "code",
   "execution_count": 11,
   "id": "6355f024",
   "metadata": {},
   "outputs": [],
   "source": [
    "y_pred=log_reg.predict(X_test)"
   ]
  },
  {
   "cell_type": "code",
   "execution_count": 12,
   "id": "796d66be",
   "metadata": {},
   "outputs": [
    {
     "data": {
      "image/png": "[encoded data removed]",
      "text/plain": [
       "<Figure size 720x504 with 2 Axes>"
      ]
     },
     "metadata": {
      "needs_background": "light"
     },
     "output_type": "display_data"
    }
   ],
   "source": [
    "conf_mat = pd.DataFrame(confusion_matrix(y_test, y_pred))\n",
    "fig = plt.figure(figsize=(10,7))\n",
    "sns.heatmap(conf_mat, annot=True, annot_kws={\"size\": 16}, fmt='g')\n",
    "plt.title(\"Confusion Matrix\")\n",
    "plt.xlabel(\"Predicted Label\")\n",
    "plt.ylabel(\"True Label\")\n",
    "plt.show()"
   ]
  },
  {
   "cell_type": "markdown",
   "id": "173f18c3",
   "metadata": {},
   "source": [
    "OBSERVATIONS:\n",
    "Our confusion Matrix looks decent. We have correctly predicted 42 (placed) + 14 (not-placed) correct predictions and 7 (not placed as placed) + 2(placed as not-placed) incorrect predictions.\n",
    "\n",
    "We need to decrease these incorrect predictions because a good candidate can be rejected (false positive)  and a unfit candidate can be selected (false negatives) "
   ]
  },
  {
   "cell_type": "code",
   "execution_count": 13,
   "id": "b556180e",
   "metadata": {},
   "outputs": [
    {
     "name": "stdout",
     "output_type": "stream",
     "text": [
      "              precision    recall  f1-score   support\n",
      "\n",
      "           0       0.88      0.67      0.76        21\n",
      "           1       0.86      0.95      0.90        44\n",
      "\n",
      "    accuracy                           0.86        65\n",
      "   macro avg       0.87      0.81      0.83        65\n",
      "weighted avg       0.86      0.86      0.86        65\n",
      "\n"
     ]
    }
   ],
   "source": [
    "print(classification_report(y_test, y_pred))"
   ]
  },
  {
   "cell_type": "code",
   "execution_count": 14,
   "id": "08aa20b5",
   "metadata": {},
   "outputs": [
    {
     "name": "stdout",
     "output_type": "stream",
     "text": [
      "The accuracy : 86.15%\n"
     ]
    }
   ],
   "source": [
    "accuracy = accuracy_score(y_pred, y_test)\n",
    "\n",
    "print(f\"The accuracy : {np.round(accuracy, 4)*100.0}%\")"
   ]
  },
  {
   "cell_type": "markdown",
   "id": "44300799",
   "metadata": {},
   "source": [
    "**Decision Tree Classifier**\n",
    "\n",
    "Let's try some decision trees now and see how well they perform but as Decision trees are easy to overfit so I will use K-FOLD CV first to find the best depth."
   ]
  },
  {
   "cell_type": "code",
   "execution_count": 15,
   "id": "88d6412e",
   "metadata": {},
   "outputs": [
    {
     "name": "stdout",
     "output_type": "stream",
     "text": [
      "The optimal depth value is:  8\n"
     ]
    }
   ],
   "source": [
    "depth = list(range(1,10))\n",
    "cv_scores = []\n",
    "for d in depth:\n",
    "  dt = DecisionTreeClassifier(criterion=\"gini\", max_depth=d, random_state=42)\n",
    "  scores = cross_val_score(dt, X_train, y_train, cv=10, scoring='accuracy', n_jobs = -1)\n",
    "  cv_scores.append(scores.mean())\n",
    "# finding the optimal depth\n",
    "optimal_depth = depth[cv_scores.index(max(cv_scores))]\n",
    "print(\"The optimal depth value is: \", optimal_depth)"
   ]
  },
  {
   "cell_type": "code",
   "execution_count": 16,
   "id": "00e5e535",
   "metadata": {},
   "outputs": [
    {
     "data": {
      "image/png": "[encoded data removed]",
      "text/plain": [
       "<Figure size 432x288 with 1 Axes>"
      ]
     },
     "metadata": {
      "needs_background": "light"
     },
     "output_type": "display_data"
    },
    {
     "name": "stdout",
     "output_type": "stream",
     "text": [
      "Accuracy scores for each depth value is :  [0.773 0.767 0.767 0.773 0.78  0.78  0.787 0.793 0.793]\n"
     ]
    }
   ],
   "source": [
    "# plotting accuracy vs depth\n",
    "plt.plot(depth, cv_scores)\n",
    "plt.xlabel(\"Depth of Tree\")\n",
    "plt.ylabel(\"Accuracy\")\n",
    "plt.title(\"Accuracy vs depth Plot\")\n",
    "plt.grid()\n",
    "plt.show()\n",
    "\n",
    "print(\"Accuracy scores for each depth value is : \", np.round(cv_scores, 3))"
   ]
  },
  {
   "cell_type": "code",
   "execution_count": 17,
   "id": "2939ea76",
   "metadata": {},
   "outputs": [
    {
     "name": "stdout",
     "output_type": "stream",
     "text": [
      "The accuracy on test set using optimal depth = 8 is 86.154%\n"
     ]
    }
   ],
   "source": [
    "dt_optimal = DecisionTreeClassifier(criterion=\"gini\", max_depth=optimal_depth, random_state=42)\n",
    "\n",
    "\n",
    "dt_optimal.fit(X_train,y_train)\n",
    "\n",
    "\n",
    "y_pred = dt_optimal.predict(X_test)\n",
    "\n",
    "\n",
    "accuracy = accuracy_score(y_test, y_pred)*100\n",
    "print(f\"The accuracy on test set using optimal depth = {optimal_depth} is {np.round(accuracy, 3)}%\")"
   ]
  },
  {
   "cell_type": "markdown",
   "id": "d775b272",
   "metadata": {},
   "source": [
    "We achieved 86% accuracy which is similiar to what we achieved using logistic regression so they seem to work equally well.\n",
    "\n",
    "What if we could combine the power of two models to get better results? "
   ]
  },
  {
   "cell_type": "markdown",
   "id": "4a56a4e5",
   "metadata": {},
   "source": [
    "**Ensemble Modelling**\n",
    "\n",
    "We will train a voting classifier using our previously trained logistic regeression and Decision tree model"
   ]
  },
  {
   "cell_type": "code",
   "execution_count": 18,
   "id": "a533fa32",
   "metadata": {},
   "outputs": [
    {
     "name": "stdout",
     "output_type": "stream",
     "text": [
      "Training the LogisticRegression()\n",
      "Training the DecisionTreeClassifier(max_depth=8, random_state=42)\n"
     ]
    }
   ],
   "source": [
    "ensembles = [log_reg, dt_optimal]\n",
    "\n",
    "\n",
    "for estimator in ensembles:\n",
    "    print(\"Training the\", estimator)\n",
    "    estimator.fit(X_train,y_train)"
   ]
  },
  {
   "cell_type": "code",
   "execution_count": 19,
   "id": "2b7f0b11",
   "metadata": {},
   "outputs": [
    {
     "data": {
      "text/plain": [
       "[0.8615384615384616, 0.8615384615384616]"
      ]
     },
     "execution_count": 19,
     "metadata": {},
     "output_type": "execute_result"
    }
   ],
   "source": [
    "scores = [estimator.score(X_test, y_test) for estimator in ensembles]\n",
    "\n",
    "scores"
   ]
  },
  {
   "cell_type": "code",
   "execution_count": 20,
   "id": "2e45bc30",
   "metadata": {},
   "outputs": [],
   "source": [
    "from sklearn.ensemble import VotingClassifier\n",
    "\n",
    "named_estimators = [\n",
    "    (\"log_reg\",log_reg),\n",
    "    (\"dt_tree\", dt_optimal),\n",
    "\n",
    "]"
   ]
  },
  {
   "cell_type": "code",
   "execution_count": 21,
   "id": "ad8aa4d1",
   "metadata": {},
   "outputs": [],
   "source": [
    "voting_clf = VotingClassifier(named_estimators)"
   ]
  },
  {
   "cell_type": "code",
   "execution_count": 22,
   "id": "17fa3da7",
   "metadata": {},
   "outputs": [
    {
     "data": {
      "text/plain": [
       "VotingClassifier(estimators=[('log_reg', LogisticRegression()),\n",
       "                             ('dt_tree',\n",
       "                              DecisionTreeClassifier(max_depth=8,\n",
       "                                                     random_state=42))])"
      ]
     },
     "execution_count": 22,
     "metadata": {},
     "output_type": "execute_result"
    }
   ],
   "source": [
    "voting_clf.fit(X_train,y_train)"
   ]
  },
  {
   "cell_type": "code",
   "execution_count": 25,
   "id": "35eb2e9d",
   "metadata": {},
   "outputs": [
    {
     "name": "stdout",
     "output_type": "stream",
     "text": [
      "The accuracy on test set using voting classifier is 92.31%\n"
     ]
    }
   ],
   "source": [
    "acc = voting_clf.score(X_test,y_test)\n",
    "print(f\"The accuracy on test set using voting classifier is {np.round(acc, 4)*100}%\")"
   ]
  },
  {
   "cell_type": "markdown",
   "id": "8f831c75",
   "metadata": {},
   "source": [
    "We went from 86.4% to 92.3% accuracy score!\n",
    "\n",
    "Hence, ensemble modelled voting classifier of Logistic and decision tree helped us increase the accuracy of the prediction model"
   ]
  },
  {
   "cell_type": "markdown",
   "id": "4f7c9142",
   "metadata": {},
   "source": [
    "**Conclusions Drawn**                                           \n",
    "* More male candidates got placed as compared to female candidates.\n",
    "* Male Candidates got higher CTCs as compared to female candidates.\n",
    "* Type of Board choosen does not have any effect on placements thus we can drop in preprocessing steps.\n",
    "* Most of the students preferred Central board in 10th grade whereas other boards in 12th grade.\n",
    "* Candidates with higher percentages have better chance of placements.\n",
    "* Choosing Science and Commerce as Specialisation seems to have perk when it comes to placments.\n",
    "* Maximum package was bagged by male candidate from Mkt&Fin branch which is around 940k.\n",
    "* Commerce is the most popular branch among candidates.\n",
    "* Mean CTC is around 220k for male and female candidates individually.\n",
    "* Choosing Sci&Tech and Comm&Mngmt as degree will fetch you higher CTCs.\n",
    "* Mkt&Fin major have higher salaries and more placement chance as compared to Mkt&HR.\n",
    "* Employability test percentage and MBA percentage does not effect the placements"
   ]
  },
  {
   "cell_type": "code",
   "execution_count": null,
   "id": "51e17e2c",
   "metadata": {},
   "outputs": [],
   "source": []
  }
 ],
 "metadata": {
  "kernelspec": {
   "display_name": "Python 3 (ipykernel)",
   "language": "python",
   "name": "python3"
  },
  "language_info": {
   "codemirror_mode": {
    "name": "ipython",
    "version": 3
   },
   "file_extension": ".py",
   "mimetype": "text/x-python",
   "name": "python",
   "nbconvert_exporter": "python",
   "pygments_lexer": "ipython3",
   "version": "3.10.0"
  }
 },
 "nbformat": 4,
 "nbformat_minor": 5
}
